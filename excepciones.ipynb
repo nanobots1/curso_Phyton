{
  "nbformat": 4,
  "nbformat_minor": 0,
  "metadata": {
    "colab": {
      "provenance": [],
      "authorship_tag": "ABX9TyN0595gQ61tqGzoH3N/as2h",
      "include_colab_link": true
    },
    "kernelspec": {
      "name": "python3",
      "display_name": "Python 3"
    },
    "language_info": {
      "name": "python"
    }
  },
  "cells": [
    {
      "cell_type": "markdown",
      "metadata": {
        "id": "view-in-github",
        "colab_type": "text"
      },
      "source": [
        "<a href=\"https://colab.research.google.com/github/nanobots1/curso_Phuton/blob/main/excepciones.ipynb\" target=\"_parent\"><img src=\"https://colab.research.google.com/assets/colab-badge.svg\" alt=\"Open In Colab\"/></a>"
      ]
    },
    {
      "cell_type": "code",
      "source": [],
      "metadata": {
        "id": "otOrUInbTVtF"
      },
      "execution_count": null,
      "outputs": []
    },
    {
      "cell_type": "markdown",
      "source": [
        "Ejemplo 3"
      ],
      "metadata": {
        "id": "b0suxCMRLEfg"
      }
    },
    {
      "cell_type": "code",
      "execution_count": null,
      "metadata": {
        "id": "K-oJJkSjKchy"
      },
      "outputs": [],
      "source": [
        "def division_segura(dividendo, divisor): # funcion division\n",
        "  try:\n",
        "    resultado = dividendo/divisor # hago la operacion\n",
        "  except ZeroDivisionError:\n",
        "    print (\"no se puede dividir por 0\") # si sucede la excepcion\n",
        "  else:\n",
        "    return resultado # si no sucede la excepcion\n",
        "  finally: # siempre se ejecuta\n",
        "    print (\"el programa ha finalizado\")\n",
        "\n",
        "resultado = division_segura(10,0) # hago la division\n",
        "\n",
        "print(resultado)"
      ]
    },
    {
      "cell_type": "markdown",
      "source": [],
      "metadata": {
        "id": "ZPT3ooJMKk0y"
      }
    }
  ]
}