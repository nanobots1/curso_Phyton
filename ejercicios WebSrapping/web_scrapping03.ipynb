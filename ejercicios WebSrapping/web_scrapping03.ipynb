{
 "cells": [
  {
   "cell_type": "code",
   "execution_count": 2,
   "id": "f258ad82-16fb-408a-8a90-3255b504d1e6",
   "metadata": {},
   "outputs": [
    {
     "name": "stdout",
     "output_type": "stream",
     "text": [
      "['At. Tucumán', 'Gimnasia La Plata', 'Argentinos Juniors', 'Racing Club', 'Godoy Cruz', 'Platense', 'Unión Santa Fe', 'Patronato', 'Huracán', 'San Lorenzo de Almagro', 'Newell´s Old Boys', 'River Plate', 'Boca Juniors']\n",
      "Longitud:  13\n",
      "['25', '21', '20', '19', '18', '18', '18', '17', '17', '16', '16', '15', '15']\n",
      "Longitud:  13\n",
      "                    Nombre Puntos\n",
      "1              At. Tucumán     25\n",
      "2        Gimnasia La Plata     21\n",
      "3       Argentinos Juniors     20\n",
      "4              Racing Club     19\n",
      "5               Godoy Cruz     18\n",
      "6                 Platense     18\n",
      "7           Unión Santa Fe     18\n",
      "8                Patronato     17\n",
      "9                  Huracán     17\n",
      "10  San Lorenzo de Almagro     16\n",
      "11       Newell´s Old Boys     16\n",
      "12             River Plate     15\n",
      "13            Boca Juniors     15\n"
     ]
    }
   ],
   "source": [
    "# -*- coding: utf-8 -*-\n",
    "\"\"\"\n",
    "Created on Mon Feb 22 22:06:25 2021\n",
    "\n",
    "@author: pablo\n",
    "\"\"\"\n",
    "from bs4 import BeautifulSoup\n",
    "import requests\n",
    "import pandas as pd\n",
    "\n",
    "\n",
    "url = 'https://argentina.as.com/resultados/futbol/argentina/clasificacion/'\n",
    "page = requests.get(url)\n",
    "\n",
    "soup =  BeautifulSoup(page.content, 'html.parser')\n",
    "\n",
    "#Equipos \n",
    "eq = soup.find_all('span', class_ = 'nombre-equipo')\n",
    "equipos = list()\n",
    "contador = 0\n",
    "for i in eq:\n",
    "    if contador < 13:\n",
    "        equipos.append(i.text)\n",
    "    else:\n",
    "        break\n",
    "    contador +=1\n",
    "    \n",
    "print (equipos)\n",
    "print ('Longitud: ', len(equipos))\n",
    "\n",
    "\n",
    "#Puntaje\n",
    "pts = soup.find_all('td', class_ = 'destacado')\n",
    "puntos = list()\n",
    "contador = 0\n",
    "for i in pts:\n",
    "    if contador < 13:\n",
    "        puntos.append(i.text)\n",
    "    else:\n",
    "        break\n",
    "    contador +=1\n",
    "    \n",
    "print (puntos)\n",
    "print ('Longitud: ', len(puntos))\n",
    "\n",
    "dataframe = pd.DataFrame( {'Nombre' : equipos, 'Puntos': puntos}, index= list(range(1, 14)))\n",
    "print (dataframe)\n",
    "\n",
    "#Guardamos la salida en un archivo CSV\n",
    "dataframe.to_csv('ClasificaciónArgentina.csv', index=False)"
   ]
  },
  {
   "cell_type": "code",
   "execution_count": null,
   "id": "92915a4f-04e0-4744-9c48-61d333fdaa0b",
   "metadata": {},
   "outputs": [],
   "source": []
  }
 ],
 "metadata": {
  "kernelspec": {
   "display_name": "Python 3",
   "language": "python",
   "name": "python3"
  },
  "language_info": {
   "codemirror_mode": {
    "name": "ipython",
    "version": 3
   },
   "file_extension": ".py",
   "mimetype": "text/x-python",
   "name": "python",
   "nbconvert_exporter": "python",
   "pygments_lexer": "ipython3",
   "version": "3.8.10"
  }
 },
 "nbformat": 4,
 "nbformat_minor": 5
}
