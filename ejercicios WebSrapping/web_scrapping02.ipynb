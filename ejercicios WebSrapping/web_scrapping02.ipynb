{
 "cells": [
  {
   "cell_type": "code",
   "execution_count": 1,
   "id": "55d34563-db03-4714-83ec-eceab3c1e61b",
   "metadata": {},
   "outputs": [
    {
     "name": "stdout",
     "output_type": "stream",
     "text": [
      "['At. Tucumán', 'Gimnasia La Plata', 'Argentinos Juniors', 'Racing Club', 'Godoy Cruz', 'Platense', 'Unión Santa Fe', 'Patronato', 'Huracán', 'San Lorenzo de Almagro']\n",
      "Longitud:  10\n"
     ]
    }
   ],
   "source": [
    "# -*- coding: utf-8 -*-\n",
    "\"\"\"\n",
    "Created on Mon Feb 22 22:06:25 2021\n",
    "\n",
    "@author: pablo\n",
    "\"\"\"\n",
    "from bs4 import BeautifulSoup\n",
    "import requests\n",
    "\n",
    "\n",
    "url = 'https://argentina.as.com/resultados/futbol/argentina/clasificacion/'\n",
    "page = requests.get(url)\n",
    "\n",
    "soup =  BeautifulSoup(page.content, 'html.parser')\n",
    "\n",
    "#Equipos\n",
    "\n",
    "eq = soup.find_all('span', class_ = 'nombre-equipo')\n",
    "\n",
    "equipos = list()\n",
    "\n",
    "contador = 0\n",
    "for i in eq:\n",
    "    if contador < 10:\n",
    "        equipos.append(i.text)\n",
    "    else:\n",
    "        break\n",
    "    contador +=1\n",
    "    \n",
    "print (equipos)\n",
    "print ('Longitud: ', len(equipos))"
   ]
  },
  {
   "cell_type": "code",
   "execution_count": null,
   "id": "4c2229c6-4c28-4df2-9152-76f6d49d2324",
   "metadata": {},
   "outputs": [],
   "source": []
  }
 ],
 "metadata": {
  "kernelspec": {
   "display_name": "Python 3",
   "language": "python",
   "name": "python3"
  },
  "language_info": {
   "codemirror_mode": {
    "name": "ipython",
    "version": 3
   },
   "file_extension": ".py",
   "mimetype": "text/x-python",
   "name": "python",
   "nbconvert_exporter": "python",
   "pygments_lexer": "ipython3",
   "version": "3.8.10"
  }
 },
 "nbformat": 4,
 "nbformat_minor": 5
}
