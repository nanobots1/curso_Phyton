{
 "cells": [
  {
   "cell_type": "code",
   "execution_count": 1,
   "id": "81763be4-61a3-4bcc-bb0a-ff9a5d523003",
   "metadata": {},
   "outputs": [
    {
     "name": "stdout",
     "output_type": "stream",
     "text": [
      "['At. Tucumán', 'Gimnasia La Plata', 'Argentinos Juniors', 'Racing Club', 'Godoy Cruz', 'Platense', 'Unión Santa Fe', 'Patronato', 'Huracán', 'San Lorenzo de Almagro', 'Newell´s Old Boys', 'River Plate', 'Boca Juniors', 'Banfield', 'Sarmiento', 'Defensa y Justicia', 'Rosario Central', 'Tigre', 'Arsenal de Sarandí', 'Colón de Santa Fe', 'Barracas Central', 'Estudiantes', 'Independiente', 'Central Córdoba (Santiago del Estero)', 'Vélez Sarsfield', 'Talleres', 'Aldosivi', 'Lanús', 'At. Tucumán', 'Gimnasia La Plata', 'Argentinos Juniors', 'Racing Club', 'Godoy Cruz', 'Platense', 'Unión Santa Fe', 'Patronato', 'Huracán', 'San Lorenzo de Almagro', 'Newell´s Old Boys', 'River Plate', 'Boca Juniors', 'Banfield', 'Sarmiento', 'Defensa y Justicia', 'Rosario Central', 'Tigre', 'Arsenal de Sarandí', 'Colón de Santa Fe', 'Barracas Central', 'Estudiantes', 'Independiente', 'Central Córdoba (Santiago del Estero)', 'Vélez Sarsfield', 'Talleres', 'Aldosivi', 'Lanús', 'At. Tucumán', 'Gimnasia La Plata', 'Argentinos Juniors', 'Racing Club', 'Godoy Cruz', 'Platense', 'Unión Santa Fe', 'Patronato', 'Huracán', 'San Lorenzo de Almagro', 'Newell´s Old Boys', 'River Plate', 'Boca Juniors', 'Banfield', 'Sarmiento', 'Defensa y Justicia', 'Rosario Central', 'Tigre', 'Arsenal de Sarandí', 'Colón de Santa Fe', 'Barracas Central', 'Estudiantes', 'Independiente', 'Central Córdoba (Santiago del Estero)', 'Vélez Sarsfield', 'Talleres', 'Aldosivi', 'Lanús']\n"
     ]
    }
   ],
   "source": [
    "# -*- coding: utf-8 -*-\n",
    "\"\"\"\n",
    "Created on Mon Feb 22 22:06:25 2021\n",
    "\n",
    "@author: pablo\n",
    "\"\"\"\n",
    "from bs4 import BeautifulSoup\n",
    "import requests\n",
    "\n",
    "\n",
    "url = 'https://argentina.as.com/resultados/futbol/argentina/clasificacion/'\n",
    "page = requests.get(url)\n",
    "\n",
    "soup =  BeautifulSoup(page.content, 'html.parser')\n",
    "\n",
    "#Equipos\n",
    "\n",
    "eq = soup.find_all('span', class_ = 'nombre-equipo')\n",
    "\n",
    "equipos = list()\n",
    "\n",
    "for i in eq:\n",
    "    equipos.append(i.text)\n",
    "    \n",
    "print (equipos)\n"
   ]
  },
  {
   "cell_type": "code",
   "execution_count": null,
   "id": "97bbe4e9-1660-4f37-8536-be11d2d79cc9",
   "metadata": {},
   "outputs": [],
   "source": []
  }
 ],
 "metadata": {
  "kernelspec": {
   "display_name": "Python 3",
   "language": "python",
   "name": "python3"
  },
  "language_info": {
   "codemirror_mode": {
    "name": "ipython",
    "version": 3
   },
   "file_extension": ".py",
   "mimetype": "text/x-python",
   "name": "python",
   "nbconvert_exporter": "python",
   "pygments_lexer": "ipython3",
   "version": "3.8.10"
  }
 },
 "nbformat": 4,
 "nbformat_minor": 5
}
